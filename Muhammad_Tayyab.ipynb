{
  "metadata": {
    "kernelspec": {
      "name": "python",
      "display_name": "Pyolite",
      "language": "python"
    },
    "language_info": {
      "codemirror_mode": {
        "name": "python",
        "version": 3
      },
      "file_extension": ".py",
      "mimetype": "text/x-python",
      "name": "python",
      "nbconvert_exporter": "python",
      "pygments_lexer": "ipython3",
      "version": "3.8"
    }
  },
  "nbformat_minor": 4,
  "nbformat": 4,
  "cells": [
    {
      "cell_type": "markdown",
      "source": "<center>\n    <img src=\"https://cf-courses-data.s3.us.cloud-object-storage.appdomain.cloud/IBMDeveloperSkillsNetwork-DS0105EN-SkillsNetwork/labs/Module2/images/SN_web_lightmode.png\" width=\"300\" alt=\"cognitiveclass.ai logo\">\n</center>\n",
      "metadata": {}
    },
    {
      "cell_type": "markdown",
      "source": "# My Jupyter Notebook on IBM Watson Studio",
      "metadata": {}
    },
    {
      "cell_type": "markdown",
      "source": "**Muhammad Tayyab**\n<br>Computer Science Teacher and Student",
      "metadata": {}
    },
    {
      "cell_type": "markdown",
      "source": "*My interest in data science is due to its emerging use in all fields of life. As well as Machine Learning and Artificial Intelligence collaborate and uses data extensively for this purpose. I wish to excel in my career using these courses.*",
      "metadata": {}
    },
    {
      "cell_type": "markdown",
      "source": "### Following Code Takes 1 number and displays its square and Cube",
      "metadata": {}
    },
    {
      "cell_type": "code",
      "source": "num = 7\nprint(\"Square of\", num , \"is : \", num * num , \"and Cube is :\", num * num * num)",
      "metadata": {
        "trusted": true
      },
      "execution_count": 2,
      "outputs": [
        {
          "name": "stdout",
          "text": "Square of 7 is :  49 and Cube is : 343\n",
          "output_type": "stream"
        }
      ]
    },
    {
      "cell_type": "markdown",
      "source": "***\n1. My Hobbies Includes :\n    - Teachning\n    - Book Reading\n    - Movies\n    - Programming\n2. Programming languages :\n    - Python\n    - C/C++\n    - Java\n    - <s>Fortran</s>\n***\n[Click Here to Reach me](https://www.facebook.com/raotayyabatta)",
      "metadata": {}
    },
    {
      "cell_type": "code",
      "source": "",
      "metadata": {},
      "execution_count": null,
      "outputs": []
    }
  ]
}