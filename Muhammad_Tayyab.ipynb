{
 "cells": [
  {
   "cell_type": "markdown",
   "metadata": {},
   "source": [
    "<center>\n",
    "    <img src=\"https://cf-courses-data.s3.us.cloud-object-storage.appdomain.cloud/IBMDeveloperSkillsNetwork-DS0105EN-SkillsNetwork/labs/Module2/images/SN_web_lightmode.png\" width=\"300\" alt=\"cognitiveclass.ai logo\">\n",
    "</center>\n"
   ]
  },
  {
   "cell_type": "markdown",
   "metadata": {},
   "source": [
    "# My Jupyter Notebook on IBM Watson Studio"
   ]
  },
  {
   "cell_type": "markdown",
   "metadata": {},
   "source": [
    "**Muhammad Tayyab**\n",
    "<br>Computer Science Teacher and Student"
   ]
  },
  {
   "cell_type": "markdown",
   "metadata": {},
   "source": [
    "*My interest in data science is due to its emerging use in all fields of life. As well as Machine Learning and Artificial Intelligence collaborate and uses data extensively for this purpose. I wish to excel in my career using these courses.*"
   ]
  },
  {
   "cell_type": "markdown",
   "metadata": {},
   "source": [
    "### Following Code Takes 1 number and displays its square and Cube"
   ]
  },
  {
   "cell_type": "code",
   "execution_count": 1,
   "metadata": {},
   "outputs": [
    {
     "name": "stdout",
     "output_type": "stream",
     "text": [
      "Square of 7 is :  49 and Cube is : 343\n"
     ]
    }
   ],
   "source": [
    "num = 7\n",
    "print(\"Square of\", num , \"is : \", num * num , \"and Cube is :\", num * num * num)"
   ]
  },
  {
   "cell_type": "markdown",
   "metadata": {},
   "source": [
    "**List of Data Science Languages :**\n",
    "***\n",
    "- Following are most commonly and used Languages of Data Sciences :<br>\n",
    "    1. Python.<br>\n",
    "    2. R.<br>\n",
    "    3. SQL.<br>\n",
    "    4. Java.<br>\n",
    "    5. Julia.<br>\n",
    "    6. Scala.<br>\n",
    "    7. C/C++<br>\n",
    "    8. JavaScript<br>\n",
    "***"
   ]
  },
  {
   "cell_type": "markdown",
   "metadata": {},
   "source": [
    "**List of Data Science Libraries :**\n",
    "***\n",
    "- Following are most commonly and used Libraries of Data Sciences :<br>\n",
    "    1. Scikit-Learn <br>\n",
    "    2. TensorFlow <br>\n",
    "    3. PyTorch <br>\n",
    "    4. Theano <br>\n",
    "    5. OpenCV <br>\n",
    "    6. Requests <br>\n",
    "    7. Graph-Tool <br>\n",
    "    8. NetworkX <br>\n",
    "    9. Chainer <br>\n",
    "***"
   ]
  },
  {
   "cell_type": "markdown",
   "metadata": {},
   "source": [
    "### Table of Data Science Tools\n",
    "\n",
    "\n",
    "| Watson Studio | SPSS | RStudio |\n",
    "| --- | --- | --- |\n",
    "| Jupyter Lab | Python | RLanguage |"
   ]
  },
  {
   "cell_type": "markdown",
   "metadata": {},
   "source": [
    "### Simple Arithmatic Example <br>\n",
    " a = 10<br>\n",
    " b = 20<br>\n",
    " c = a + b / 2 <br>\n",
    " **Result = 15**"
   ]
  },
  {
   "cell_type": "markdown",
   "metadata": {},
   "source": [
    "### Code to Multiply and Add Numbers ..."
   ]
  },
  {
   "cell_type": "code",
   "execution_count": 5,
   "metadata": {},
   "outputs": [
    {
     "name": "stdout",
     "output_type": "stream",
     "text": [
      "The Value of a =  23\n",
      "The Value of b =  43\n",
      "The Sum of  23  and  43  =  66\n",
      "The Product of  23  and  43  =  989\n"
     ]
    }
   ],
   "source": [
    "a = 23\n",
    "b = 43\n",
    "\n",
    "print(\"The Value of a = \",a)\n",
    "print(\"The Value of b = \",b)\n",
    "\n",
    "print(\"The Sum of \", a , \" and \", b , \" = \", a + b)\n",
    "print(\"The Product of \", a , \" and \", b , \" = \", a * b)"
   ]
  },
  {
   "cell_type": "markdown",
   "metadata": {},
   "source": [
    "### Code to Convert Minutes to Hours ..."
   ]
  },
  {
   "cell_type": "code",
   "execution_count": 6,
   "metadata": {},
   "outputs": [
    {
     "name": "stdin",
     "output_type": "stream",
     "text": [
      "Enter Minutes to convert into hours 560\n"
     ]
    },
    {
     "name": "stdout",
     "output_type": "stream",
     "text": [
      "560  Minutes =  9.333333333333334 Hours\n"
     ]
    }
   ],
   "source": [
    "minutes =int(input(\"Enter Minutes to convert into hours\"))\n",
    "hours = minutes / 60\n",
    "print(minutes, \" Minutes = \", hours , \"Hours\")"
   ]
  },
  {
   "cell_type": "markdown",
   "metadata": {},
   "source": [
    "***\n",
    "1. My Hobbies Includes :\n",
    "    - Teachning\n",
    "    - Book Reading\n",
    "    - Movies\n",
    "    - Programming\n",
    "2. Programming languages :\n",
    "    - Python\n",
    "    - C/C++\n",
    "    - Java\n",
    "    - <s>Fortran</s>\n",
    "***\n",
    "[Click Here to Reach me](https://www.facebook.com/raotayyabatta)"
   ]
  },
  {
   "cell_type": "code",
   "execution_count": null,
   "metadata": {},
   "outputs": [],
   "source": []
  }
 ],
 "metadata": {
  "kernelspec": {
   "display_name": "Python",
   "language": "python",
   "name": "conda-env-python-py"
  },
  "language_info": {
   "codemirror_mode": {
    "name": "ipython",
    "version": 3
   },
   "file_extension": ".py",
   "mimetype": "text/x-python",
   "name": "python",
   "nbconvert_exporter": "python",
   "pygments_lexer": "ipython3",
   "version": "3.7.12"
  }
 },
 "nbformat": 4,
 "nbformat_minor": 4
}
